{
 "cells": [
  {
   "cell_type": "markdown",
   "metadata": {},
   "source": [
    "## PART 1 : Pré-traitement des datasets"
   ]
  },
  {
   "cell_type": "code",
   "execution_count": 94,
   "metadata": {},
   "outputs": [
    {
     "data": {
      "text/plain": [
       "((21417, 4), (23481, 4))"
      ]
     },
     "execution_count": 94,
     "metadata": {},
     "output_type": "execute_result"
    }
   ],
   "source": [
    "import pandas as pd\n",
    "\n",
    "data_true  = pd.read_csv('True.csv')\n",
    "data_fake  = pd.read_csv('Fake.csv')\n",
    "\n",
    "data_true.shape, data_fake.shape"
   ]
  },
  {
   "cell_type": "markdown",
   "metadata": {},
   "source": [
    "La répartition est plutot équitable malgré qu'il y est plus de fake, il y'a 2064 données de plus dans le fake."
   ]
  },
  {
   "cell_type": "code",
   "execution_count": 95,
   "metadata": {},
   "outputs": [
    {
     "data": {
      "text/plain": [
       "0        WASHINGTON (Reuters) - The head of a conservat...\n",
       "1        WASHINGTON (Reuters) - Transgender people will...\n",
       "2        WASHINGTON (Reuters) - The special counsel inv...\n",
       "3        WASHINGTON (Reuters) - Trump campaign adviser ...\n",
       "4        SEATTLE/WASHINGTON (Reuters) - President Donal...\n",
       "                               ...                        \n",
       "21412    BRUSSELS (Reuters) - NATO allies on Tuesday we...\n",
       "21413    LONDON (Reuters) - LexisNexis, a provider of l...\n",
       "21414    MINSK (Reuters) - In the shadow of disused Sov...\n",
       "21415    MOSCOW (Reuters) - Vatican Secretary of State ...\n",
       "21416    JAKARTA (Reuters) - Indonesia will buy 11 Sukh...\n",
       "Name: text, Length: 21417, dtype: object"
      ]
     },
     "execution_count": 95,
     "metadata": {},
     "output_type": "execute_result"
    }
   ],
   "source": [
    "data_true[\"text\"] \n",
    "# data_fake[\"text\"]"
   ]
  },
  {
   "cell_type": "markdown",
   "metadata": {},
   "source": [
    "Le texte de True est toujours préfixer de l'endroit suivit de (Reuters) -."
   ]
  },
  {
   "cell_type": "code",
   "execution_count": 96,
   "metadata": {},
   "outputs": [],
   "source": [
    "data_true['text'] = data_true['text'].apply(lambda x: x.split(' - ', 1)[1] if len(x.split(' - ', 1)) > 1 else x)\n"
   ]
  },
  {
   "cell_type": "code",
   "execution_count": 97,
   "metadata": {},
   "outputs": [
    {
     "name": "stdout",
     "output_type": "stream",
     "text": [
      "Nombre de textes vides supprimés dans data_true: 1\n",
      "Nombre de textes vides supprimés dans data_false: 630\n"
     ]
    }
   ],
   "source": [
    "nb_textes_vides_true = data_true['text'].apply(lambda x: x.strip() == '').sum()\n",
    "data_true = data_true[data_true['text'].apply(lambda x: x.strip() != '')]\n",
    "print(f\"Nombre de textes vides supprimés dans data_true: {nb_textes_vides_true}\")\n",
    "\n",
    "nb_textes_vides_false = data_fake['text'].apply(lambda x: x.strip() == '').sum()\n",
    "data_fake = data_fake[data_fake['text'].apply(lambda x: x.strip() != '')]\n",
    "print(f\"Nombre de textes vides supprimés dans data_false: {nb_textes_vides_false}\")"
   ]
  },
  {
   "cell_type": "code",
   "execution_count": 98,
   "metadata": {},
   "outputs": [
    {
     "name": "stdout",
     "output_type": "stream",
     "text": [
      "Nombre de doublons dans data_true: 206\n",
      "Nombre de doublons dans data_fake: 3\n"
     ]
    }
   ],
   "source": [
    "nb_doublons_true = data_true.duplicated().sum()\n",
    "print(f\"Nombre de doublons dans data_true: {nb_doublons_true}\")\n",
    "data_true = data_true.drop_duplicates()\n",
    "\n",
    "nb_doublons_fake = data_fake.duplicated().sum()\n",
    "print(f\"Nombre de doublons dans data_fake: {nb_doublons_fake}\")\n",
    "data_fake = data_fake.drop_duplicates()"
   ]
  },
  {
   "cell_type": "code",
   "execution_count": 99,
   "metadata": {},
   "outputs": [],
   "source": [
    "data_true['true'] = 0\n",
    "data_fake['fake'] = 1\n"
   ]
  },
  {
   "cell_type": "code",
   "execution_count": 100,
   "metadata": {},
   "outputs": [],
   "source": [
    "data_true['text'] = data_true['text'] + ' ' + data_true['title']\n",
    "\n",
    "data_fake['text'] = data_fake['text'] + ' ' + data_fake['title']"
   ]
  },
  {
   "cell_type": "code",
   "execution_count": 101,
   "metadata": {},
   "outputs": [],
   "source": [
    "data_true[\"text\"] = data_true[\"text\"].apply(lambda x: x.lower())\n",
    "data_fake[\"text\"] = data_fake[\"text\"].apply(lambda x: x.lower())"
   ]
  },
  {
   "cell_type": "code",
   "execution_count": 103,
   "metadata": {},
   "outputs": [
    {
     "name": "stdout",
     "output_type": "stream",
     "text": [
      "Nombre total de news dans le dataset: 44058\n"
     ]
    },
    {
     "data": {
      "text/html": [
       "<div>\n",
       "<style scoped>\n",
       "    .dataframe tbody tr th:only-of-type {\n",
       "        vertical-align: middle;\n",
       "    }\n",
       "\n",
       "    .dataframe tbody tr th {\n",
       "        vertical-align: top;\n",
       "    }\n",
       "\n",
       "    .dataframe thead th {\n",
       "        text-align: right;\n",
       "    }\n",
       "</style>\n",
       "<table border=\"1\" class=\"dataframe\">\n",
       "  <thead>\n",
       "    <tr style=\"text-align: right;\">\n",
       "      <th></th>\n",
       "      <th>text</th>\n",
       "      <th>true</th>\n",
       "      <th>fake</th>\n",
       "    </tr>\n",
       "  </thead>\n",
       "  <tbody>\n",
       "    <tr>\n",
       "      <th>0</th>\n",
       "      <td>the head of a conservative republican faction ...</td>\n",
       "      <td>0.0</td>\n",
       "      <td>NaN</td>\n",
       "    </tr>\n",
       "    <tr>\n",
       "      <th>1</th>\n",
       "      <td>transgender people will be allowed for the fir...</td>\n",
       "      <td>0.0</td>\n",
       "      <td>NaN</td>\n",
       "    </tr>\n",
       "    <tr>\n",
       "      <th>2</th>\n",
       "      <td>the special counsel investigation of links bet...</td>\n",
       "      <td>0.0</td>\n",
       "      <td>NaN</td>\n",
       "    </tr>\n",
       "    <tr>\n",
       "      <th>3</th>\n",
       "      <td>trump campaign adviser george papadopoulos tol...</td>\n",
       "      <td>0.0</td>\n",
       "      <td>NaN</td>\n",
       "    </tr>\n",
       "    <tr>\n",
       "      <th>4</th>\n",
       "      <td>president donald trump called on the u.s. post...</td>\n",
       "      <td>0.0</td>\n",
       "      <td>NaN</td>\n",
       "    </tr>\n",
       "    <tr>\n",
       "      <th>...</th>\n",
       "      <td>...</td>\n",
       "      <td>...</td>\n",
       "      <td>...</td>\n",
       "    </tr>\n",
       "    <tr>\n",
       "      <th>44053</th>\n",
       "      <td>21st century wire says as 21wire reported earl...</td>\n",
       "      <td>NaN</td>\n",
       "      <td>1.0</td>\n",
       "    </tr>\n",
       "    <tr>\n",
       "      <th>44054</th>\n",
       "      <td>21st century wire says it s a familiar theme. ...</td>\n",
       "      <td>NaN</td>\n",
       "      <td>1.0</td>\n",
       "    </tr>\n",
       "    <tr>\n",
       "      <th>44055</th>\n",
       "      <td>patrick henningsen  21st century wireremember ...</td>\n",
       "      <td>NaN</td>\n",
       "      <td>1.0</td>\n",
       "    </tr>\n",
       "    <tr>\n",
       "      <th>44056</th>\n",
       "      <td>21st century wire says al jazeera america will...</td>\n",
       "      <td>NaN</td>\n",
       "      <td>1.0</td>\n",
       "    </tr>\n",
       "    <tr>\n",
       "      <th>44057</th>\n",
       "      <td>21st century wire says as 21wire predicted in ...</td>\n",
       "      <td>NaN</td>\n",
       "      <td>1.0</td>\n",
       "    </tr>\n",
       "  </tbody>\n",
       "</table>\n",
       "<p>44058 rows × 3 columns</p>\n",
       "</div>"
      ],
      "text/plain": [
       "                                                    text  true  fake\n",
       "0      the head of a conservative republican faction ...   0.0   NaN\n",
       "1      transgender people will be allowed for the fir...   0.0   NaN\n",
       "2      the special counsel investigation of links bet...   0.0   NaN\n",
       "3      trump campaign adviser george papadopoulos tol...   0.0   NaN\n",
       "4      president donald trump called on the u.s. post...   0.0   NaN\n",
       "...                                                  ...   ...   ...\n",
       "44053  21st century wire says as 21wire reported earl...   NaN   1.0\n",
       "44054  21st century wire says it s a familiar theme. ...   NaN   1.0\n",
       "44055  patrick henningsen  21st century wireremember ...   NaN   1.0\n",
       "44056  21st century wire says al jazeera america will...   NaN   1.0\n",
       "44057  21st century wire says as 21wire predicted in ...   NaN   1.0\n",
       "\n",
       "[44058 rows x 3 columns]"
      ]
     },
     "execution_count": 103,
     "metadata": {},
     "output_type": "execute_result"
    }
   ],
   "source": [
    "data_true_subset = data_true[['text', 'true']]\n",
    "data_fake_subset = data_fake[['text', 'fake']]\n",
    "\n",
    "data = pd.concat([data_true_subset, data_fake_subset])\n",
    "data = data.reset_index(drop=True)\n",
    "\n",
    "print(f\"Nombre total de news dans le dataset: {len(data)}\")\n",
    "data"
   ]
  },
  {
   "cell_type": "markdown",
   "metadata": {},
   "source": [
    "## PART 2 : Mise en forme des textes"
   ]
  },
  {
   "cell_type": "code",
   "execution_count": null,
   "metadata": {},
   "outputs": [],
   "source": []
  }
 ],
 "metadata": {
  "kernelspec": {
   "display_name": "venv",
   "language": "python",
   "name": "python3"
  },
  "language_info": {
   "codemirror_mode": {
    "name": "ipython",
    "version": 3
   },
   "file_extension": ".py",
   "mimetype": "text/x-python",
   "name": "python",
   "nbconvert_exporter": "python",
   "pygments_lexer": "ipython3",
   "version": "3.12.0"
  }
 },
 "nbformat": 4,
 "nbformat_minor": 2
}
