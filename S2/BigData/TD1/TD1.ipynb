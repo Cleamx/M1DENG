{
 "cells": [
  {
   "cell_type": "code",
   "execution_count": 11,
   "metadata": {},
   "outputs": [],
   "source": [
    "from keras.datasets import fashion_mnist\n",
    "import numpy as np\n",
    "(X_train, y_train), (X_test, y_test) = fashion_mnist.load_data()"
   ]
  },
  {
   "cell_type": "markdown",
   "metadata": {},
   "source": [
    "**1.2** \\\n",
    "Les données sont de type numpy.ndarray et ont pour forme (nombre d'images, nombre de pixel (h), nombre de pixel (l))"
   ]
  },
  {
   "cell_type": "code",
   "execution_count": 24,
   "metadata": {},
   "outputs": [
    {
     "name": "stdout",
     "output_type": "stream",
     "text": [
      "Type de X_train : <class 'numpy.ndarray'>, Forme : (60000, 28, 28)\n",
      "Type de y_train : <class 'numpy.ndarray'>, Forme : (60000,)\n",
      "Type de X_test : <class 'numpy.ndarray'>, Forme : (10000, 28, 28)\n",
      "Type de y_test : <class 'numpy.ndarray'>, Forme : (10000,)\n"
     ]
    }
   ],
   "source": [
    "print(f\"Type de X_train : {type(X_train)}, Forme : {X_train.shape}\")\n",
    "print(f\"Type de y_train : {type(y_train)}, Forme : {y_train.shape}\")\n",
    "print(f\"Type de X_test : {type(X_test)}, Forme : {X_test.shape}\")\n",
    "print(f\"Type de y_test : {type(y_test)}, Forme : {y_test.shape}\")"
   ]
  },
  {
   "cell_type": "code",
   "execution_count": 25,
   "metadata": {},
   "outputs": [
    {
     "name": "stdout",
     "output_type": "stream",
     "text": [
      "Répartition des targets dans y_train :\n",
      "T-shirt/top: 6000\n",
      "Trouser (pantalon): 6000\n",
      "Pullover (pull): 6000\n",
      "Dress (robe): 6000\n",
      "Coat (manteau): 6000\n",
      "Sandal (sandale): 6000\n",
      "Shirt (chemise): 6000\n",
      "Sneaker (basket): 6000\n",
      "Bag (sac): 6000\n",
      "Ankle boot (bottine): 6000\n",
      "\n",
      "Répartition des targets dans y_test :\n",
      "T-shirt/top: 1000\n",
      "Trouser (pantalon): 1000\n",
      "Pullover (pull): 1000\n",
      "Dress (robe): 1000\n",
      "Coat (manteau): 1000\n",
      "Sandal (sandale): 1000\n",
      "Shirt (chemise): 1000\n",
      "Sneaker (basket): 1000\n",
      "Bag (sac): 1000\n",
      "Ankle boot (bottine): 1000\n"
     ]
    }
   ],
   "source": [
    "# Dictionnaire des noms des labels\n",
    "label_names = {\n",
    "    0: 'T-shirt/top',\n",
    "    1: 'Trouser (pantalon)',\n",
    "    2: 'Pullover (pull)',\n",
    "    3: 'Dress (robe)',\n",
    "    4: 'Coat (manteau)',\n",
    "    5: 'Sandal (sandale)',\n",
    "    6: 'Shirt (chemise)',\n",
    "    7: 'Sneaker (basket)',\n",
    "    8: 'Bag (sac)',\n",
    "    9: 'Ankle boot (bottine)'\n",
    "}\n",
    "\n",
    "# Répartition des targets dans le jeu d'entraînement\n",
    "unique, counts = np.unique(y_train, return_counts=True)\n",
    "train_distribution = dict(zip(unique, counts))\n",
    "print(\"Répartition des targets dans y_train :\")\n",
    "for label, count in train_distribution.items():\n",
    "    print(f\"{label_names[label]}: {count}\")\n",
    "\n",
    "# Répartition des targets dans le jeu de test\n",
    "unique, counts = np.unique(y_test, return_counts=True)\n",
    "test_distribution = dict(zip(unique, counts))\n",
    "print(\"\\nRépartition des targets dans y_test :\")\n",
    "for label, count in test_distribution.items():\n",
    "    print(f\"{label_names[label]}: {count}\")"
   ]
  },
  {
   "cell_type": "markdown",
   "metadata": {},
   "source": [
    "**1.3** \\\n",
    "La **Répartition** est équilibrée car chaque \"labels/catégorie\" est représentée de manière égale dans les jeux de données d'entrainement et de test. (il y a 6000 images de chaque catégorie dans le jeu d'entraînement)\n",
    "\\\n",
    "La répartition est donc **cohérente** pour les models d'apprentissage car chaque catégorie est représenté de façon égale."
   ]
  },
  {
   "cell_type": "markdown",
   "metadata": {},
   "source": [
    "**1.4**\\\n",
    "Les données doivent être soit reshape afin d'avoir une matrice, mais en faisant un reshape nous touchons directement au données. Or, nous pouvons aussi utiliser un flatten qui ne modifira pas les données."
   ]
  },
  {
   "cell_type": "markdown",
   "metadata": {},
   "source": []
  }
 ],
 "metadata": {
  "kernelspec": {
   "display_name": "venv",
   "language": "python",
   "name": "python3"
  },
  "language_info": {
   "codemirror_mode": {
    "name": "ipython",
    "version": 3
   },
   "file_extension": ".py",
   "mimetype": "text/x-python",
   "name": "python",
   "nbconvert_exporter": "python",
   "pygments_lexer": "ipython3",
   "version": "3.12.0"
  }
 },
 "nbformat": 4,
 "nbformat_minor": 2
}
